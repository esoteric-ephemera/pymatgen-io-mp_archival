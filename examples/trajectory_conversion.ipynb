{
 "cells": [
  {
   "cell_type": "markdown",
   "metadata": {},
   "source": [
    "<b>The basics:</b> converting a trajectory to HDF5\n",
    "\n",
    "Let's start with the trajectory included in the tests of this package. This file is an `emmet-core` `TaskDoc` object, which contains trajectory information in its ionic steps."
   ]
  },
  {
   "cell_type": "code",
   "execution_count": 11,
   "metadata": {},
   "outputs": [],
   "source": [
    "from pathlib import Path\n",
    "\n",
    "from emmet.core.tasks import TaskDoc\n",
    "from monty.serialization import loadfn\n",
    "\n",
    "from pymatgen.io import mp_archival\n",
    "from pymatgen.io.mp_archival.trajectory import TrajArchive\n",
    "\n",
    "task_doc_path = (\n",
    "    Path(mp_archival.__file__).resolve().parent\n",
    "    / \"../../../tests/test_files/mp-1201400_task_doc.json.gz\"\n",
    ")\n",
    "task_doc = TaskDoc(**loadfn(task_doc_path))"
   ]
  },
  {
   "cell_type": "markdown",
   "metadata": {},
   "source": [
    "We use the `from_task_doc` feature of `TrajArchive` to convert this to an HDF5 file:"
   ]
  },
  {
   "cell_type": "code",
   "execution_count": 14,
   "metadata": {},
   "outputs": [],
   "source": [
    "archiver = TrajArchive.from_task_doc(task_doc)\n",
    "archiver.to_archive(\"traj.h5\")"
   ]
  },
  {
   "cell_type": "markdown",
   "metadata": {},
   "source": [
    "We can convert this HDF5 file to a `pymatgen` or `ase` `Trajectory` object with single lines of code:"
   ]
  },
  {
   "cell_type": "code",
   "execution_count": 15,
   "metadata": {},
   "outputs": [],
   "source": [
    "pmg_traj = TrajArchive.to_pymatgen_trajectory(\"traj.h5\")\n",
    "ase_traj = TrajArchive.to_ase_trajectory(\"traj.h5\")"
   ]
  },
  {
   "cell_type": "markdown",
   "metadata": {},
   "source": [
    "If you have a `pymatgen` trajectory, you can also directly convert this to a `TrajArchive`"
   ]
  },
  {
   "cell_type": "code",
   "execution_count": 23,
   "metadata": {},
   "outputs": [],
   "source": [
    "traj_copy = TrajArchive.from_pymatgen_trajectory(pmg_traj)"
   ]
  },
  {
   "cell_type": "markdown",
   "metadata": {},
   "source": [
    "To achieve better data compression, you might want to store trajectories in batches. To do this, use the `to_group` feature of `TrajArchive`. This will allow you to add a trajectory to an arbitrary hierarchical position in an existing HDF5 file."
   ]
  },
  {
   "cell_type": "code",
   "execution_count": 27,
   "metadata": {},
   "outputs": [
    {
     "name": "stdout",
     "output_type": "stream",
     "text": [
      "<KeysViewHDF5 ['copy_1', 'copy_2', 'copy_3', 'copy_4', 'copy_5']>\n"
     ]
    }
   ],
   "source": [
    "import h5py\n",
    "\n",
    "with h5py.File(\"traj.h5\", \"w\") as f:\n",
    "    for idx in range(5):\n",
    "        traj_copy.to_group(f, group_key=f\"copy_{1+idx}\")\n",
    "    print(f.keys())"
   ]
  }
 ],
 "metadata": {
  "kernelspec": {
   "display_name": "new_mp",
   "language": "python",
   "name": "python3"
  },
  "language_info": {
   "codemirror_mode": {
    "name": "ipython",
    "version": 3
   },
   "file_extension": ".py",
   "mimetype": "text/x-python",
   "name": "python",
   "nbconvert_exporter": "python",
   "pygments_lexer": "ipython3",
   "version": "3.10.0"
  }
 },
 "nbformat": 4,
 "nbformat_minor": 2
}
